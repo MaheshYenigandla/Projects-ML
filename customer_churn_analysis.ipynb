{
 "cells": [
  {
   "cell_type": "code",
   "execution_count": null,
   "id": "4e795dca",
   "metadata": {},
   "outputs": [],
   "source": [
    "import pandas as pd\n",
    "import numpy as np\n",
    "import matplotlib.pyplot as plt\n",
    "import seaborn as sns\n",
    "col_scheme = [\"#4374B3\", \"#FF0B04\"]"
   ]
  },
  {
   "cell_type": "code",
   "execution_count": null,
   "id": "706c06c3",
   "metadata": {},
   "outputs": [],
   "source": [
    "data = pd.read_csv('https://github.com/dsrscientist/DSData/blob/master/Telecom_customer_churn.csv')\n",
    "data.head()"
   ]
  },
  {
   "cell_type": "code",
   "execution_count": null,
   "id": "0b3ad1c0",
   "metadata": {},
   "outputs": [],
   "source": [
    "print('We have %d rows (observations) of data with %d columns (features).\\n' % (data.shape[0], data.shape[1]))\n",
    "dups = data[data.duplicated()]\n",
    "print(\"Number of duplicate rows: %d\\n\" % len(dups))"
   ]
  },
  {
   "cell_type": "code",
   "execution_count": null,
   "id": "b4fd2d90",
   "metadata": {},
   "outputs": [],
   "source": [
    "data.info()"
   ]
  },
  {
   "cell_type": "code",
   "execution_count": null,
   "id": "39dedeb9",
   "metadata": {},
   "outputs": [],
   "source": [
    "data.describe()"
   ]
  },
  {
   "cell_type": "code",
   "execution_count": null,
   "id": "965c3653",
   "metadata": {},
   "outputs": [],
   "source": [
    "data['Churn'].value_counts()"
   ]
  },
  {
   "cell_type": "code",
   "execution_count": null,
   "id": "df652949",
   "metadata": {},
   "outputs": [],
   "source": [
    "fig, (ax1, ax2) = plt.subplots(1,2)\n",
    "fig.set_figheight(6)\n",
    "fig.set_figwidth(12)\n",
    "\n",
    "ax1.pie(data['Churn'].value_counts(), explode=(0,0.1), autopct='%1.1f%%',\n",
    "        shadow=True, startangle=90, labels=data['Churn'].unique(), colors=col_scheme)\n",
    "fig.set_facecolor('white')\n",
    "\n",
    "ax2.bar(data['Churn'].unique(), data['Churn'].value_counts(), color=col_scheme)\n",
    "ax1.text(0.5, 0.0, \"Number of customers who stayed = %d\" % len(data[data['Churn'] == 'No']), size=12, ha=\"center\", \n",
    "         transform=ax1.transAxes)\n",
    "ax1.text(0.5,-0.1, \"Number of customers who left = %d\" % len(data[data['Churn'] == 'Yes']), size=12, ha=\"center\", \n",
    "         transform=ax1.transAxes)\n",
    "\n",
    "plt.suptitle('Churn')\n",
    "plt.show()"
   ]
  },
  {
   "cell_type": "code",
   "execution_count": null,
   "id": "103f2bc2",
   "metadata": {},
   "outputs": [],
   "source": [
    "plt.figure(figsize = (9,6))\n",
    "ten_mean = np.mean(data['tenure'])\n",
    "ten_med = np.median(data['tenure'])\n",
    "plt.hist(data[\"tenure\"], bins = 25, alpha = 0.65, color = 'green')\n",
    "plt.title(\"tenure\", fontsize = 15)\n",
    "plt.ylabel(\"Number of customers\", fontsize = 15)\n",
    "plt.xlabel(\"Months\", fontsize = 15)\n",
    "plt.xticks(np.arange(0, 75, step=6))\n",
    "plt.axvline(ten_mean, color='red', linestyle='solid', linewidth=2, label = \"Mean %.2f\" % ten_mean)\n",
    "plt.axvline(ten_med, color='blue', linestyle='solid', linewidth=2, label = \"Median %.2f\" % ten_med)\n",
    "plt.legend(fontsize = 12)\n",
    "plt.show()\n"
   ]
  },
  {
   "cell_type": "code",
   "execution_count": null,
   "id": "bdcf4636",
   "metadata": {},
   "outputs": [],
   "source": [
    "print(\"Percentage of customers who left before 6 months? : %.2f%%\" % ((len(data[data['tenure'] < 6])) / len(data['tenure']) * 100))"
   ]
  },
  {
   "cell_type": "code",
   "execution_count": null,
   "id": "87dab4e9",
   "metadata": {},
   "outputs": [],
   "source": [
    "under_6 = data[data['tenure'] < 6]"
   ]
  },
  {
   "cell_type": "code",
   "execution_count": null,
   "id": "bbccaaab",
   "metadata": {},
   "outputs": [],
   "source": [
    "sns.set_palette(sns.color_palette(col_scheme))\n",
    "plt.figure(figsize=(9,6))\n",
    "sns.countplot(x=under_6['Contract'], hue=under_6['Churn']).set_title('Churn vs. PaymentMethod')\n",
    "plt.show()"
   ]
  },
  {
   "cell_type": "code",
   "execution_count": null,
   "id": "abdc63a4",
   "metadata": {},
   "outputs": [],
   "source": [
    "plt.figure(figsize = (10,6))\n",
    "mc_mean = np.mean(data['MonthlyCharges'])\n",
    "mc_med = np.median(data['MonthlyCharges'])\n",
    "plt.hist(data[\"MonthlyCharges\"], bins = 25, alpha = 0.65, color = 'green')\n",
    "plt.xticks(np.arange(20, 125, step=5))\n",
    "plt.title(\"MonthlyCharges\", fontsize = 15)\n",
    "plt.ylabel(\"Number of customers\", fontsize = 15)\n",
    "plt.xlabel(\"Monthly Bill Amount\", fontsize = 15)\n",
    "plt.axvline(mc_mean, color='red', linestyle='solid', linewidth=2, label = \"Mean %.2f\" % mc_mean)\n",
    "plt.axvline(mc_med, color='blue', linestyle='solid', linewidth=2, label = \"Median %.2f\" % mc_med)\n",
    "plt.legend(fontsize = 12)\n",
    "plt.show()\n"
   ]
  },
  {
   "cell_type": "code",
   "execution_count": null,
   "id": "eb2bc92e",
   "metadata": {},
   "outputs": [],
   "source": [
    "print(\"Percentage of customers with a Monthly Bill of $25 or less? %.2f%%\" % ((len(data[data['MonthlyCharges'] < 25.01])) / len(data['MonthlyCharges']) * 100"
   ]
  },
  {
   "cell_type": "code",
   "execution_count": null,
   "id": "939ba3bd",
   "metadata": {},
   "outputs": [],
   "source": [
    "# Convert data in 'TotalCharges' from string to float.\n",
    "data['TotalCharges'] = pd.to_numeric(data['TotalCharges'],errors='coerce')"
   ]
  },
  {
   "cell_type": "code",
   "execution_count": null,
   "id": "9be69433",
   "metadata": {},
   "outputs": [],
   "source": [
    "print(\"How many missing values in 'TotalCharges' after coercion? : %d\" % data['TotalCharges'].isnull().sum())\n",
    "print(\"What percentage of the data are these missing values? : %0.2f%%\" % ((data['TotalCharges'].isnull().sum()) / (len(data['TotalCharges'])) * 100))"
   ]
  },
  {
   "cell_type": "code",
   "execution_count": null,
   "id": "16e9b445",
   "metadata": {},
   "outputs": [],
   "source": [
    "data2 = data[data[\"TotalCharges\"].notnull()] \n",
    "data2 = data2.reset_index(drop=True)"
   ]
  },
  {
   "cell_type": "code",
   "execution_count": null,
   "id": "ae93ccd5",
   "metadata": {},
   "outputs": [],
   "source": [
    "plt.figure(figsize = (18,6))\n",
    "tc_mean = np.mean(data2['TotalCharges'])\n",
    "tc_med = np.median(data2['TotalCharges'])\n",
    "plt.hist(data2['TotalCharges'], bins = 25, alpha = 0.65, color = 'green')\n",
    "plt.title('TotalCharges', fontsize = 15)\n",
    "plt.ylabel(\"Number of customers\", fontsize = 15)\n",
    "plt.xlabel(\"Total Amount Charged\", fontsize = 15)\n",
    "plt.xticks(np.arange(0, 8800, 300))\n",
    "plt.axvline(tc_mean, color='red', linestyle='solid', linewidth=2, label = \"Mean %.2f\" % tc_mean)\n",
    "plt.axvline(tc_med, color='blue', linestyle='solid', linewidth=2, label = \"Median %.2f\" % tc_med)\n",
    "plt.legend(fontsize = 12)\n",
    "plt.show()\n"
   ]
  },
  {
   "cell_type": "code",
   "execution_count": null,
   "id": "f5c6f0a1",
   "metadata": {},
   "outputs": [],
   "source": [
    "print(\"Percentage of customers with TotalCharges less than $300? %.2f%%\" % ((len(data2[data2['TotalCharges'] < 300])) / len(data2['TotalCharges']) * 10"
   ]
  },
  {
   "cell_type": "code",
   "execution_count": null,
   "id": "6f87430f",
   "metadata": {},
   "outputs": [],
   "source": [
    "no_www = data2[data2.InternetService == 'No']"
   ]
  },
  {
   "cell_type": "code",
   "execution_count": null,
   "id": "b759b852",
   "metadata": {},
   "outputs": [],
   "source": [
    "print(no_www['OnlineSecurity'].unique())\n",
    "print(no_www['OnlineBackup'].unique())\n",
    "print(no_www['DeviceProtection'].unique())\n",
    "print(no_www['TechSupport'].unique())\n",
    "print(no_www['StreamingTV'].unique())\n",
    "print(no_www['StreamingMovies'].unique())"
   ]
  },
  {
   "cell_type": "code",
   "execution_count": null,
   "id": "6d056d61",
   "metadata": {},
   "outputs": [],
   "source": [
    "binaries = ['OnlineSecurity', 'OnlineBackup', 'DeviceProtection', 'TechSupport', 'StreamingTV', 'StreamingMovies']"
   ]
  },
  {
   "cell_type": "code",
   "execution_count": null,
   "id": "91504329",
   "metadata": {},
   "outputs": [],
   "source": [
    "for i in binaries:\n",
    "    data2[i] = data2[i].replace({'No internet service' : 'No'})"
   ]
  },
  {
   "cell_type": "code",
   "execution_count": null,
   "id": "bace8e56",
   "metadata": {},
   "outputs": [],
   "source": [
    "data2[\"SeniorCitizen\"] = data2[\"SeniorCitizen\"].replace({1:\"Yes\",0:\"No\"})"
   ]
  },
  {
   "cell_type": "code",
   "execution_count": null,
   "id": "dea42bc3",
   "metadata": {},
   "outputs": [],
   "source": [
    "sns.set_palette(sns.color_palette(col_scheme))\n",
    "fig, ax=plt.subplots(3,4,figsize=(25,18))\n",
    "\n",
    "sns.countplot(x=data2['gender'], hue=data2['Churn'], ax=ax[0,0])\n",
    "ax[0,0].set_title('Churn vs. gender')\n",
    "sns.countplot(x=data2['SeniorCitizen'], hue=data2['Churn'], ax=ax[0,1])\n",
    "ax[0,1].set_title('Churn vs. SeniorCitizen')\n",
    "sns.countplot(x=data2['Partner'], hue=data2['Churn'], ax=ax[0,2])\n",
    "ax[0,2].set_title('Churn vs. Partner')\n",
    "sns.countplot(x=data2['Dependents'], hue=data2['Churn'], ax=ax[0,3])\n",
    "ax[0,3].set_title('Churn vs. Dependents')\n",
    "\n",
    "sns.countplot(x=data2['PhoneService'], hue=data2['Churn'], ax=ax[1,0])\n",
    "ax[1,0].set_title('Churn vs. PhoneService')\n",
    "sns.countplot(x=data2['MultipleLines'], hue=data2['Churn'], ax=ax[1,1])\n",
    "ax[1,1].set_title('Churn vs. MultipleLines')\n",
    "sns.countplot(x=data2['InternetService'], hue=data2['Churn'], ax=ax[1,2])\n",
    "ax[1,2].set_title('Churn vs. InternetService')\n",
    "sns.countplot(x=data2['OnlineSecurity'], hue=data2['Churn'], ax=ax[1,3])\n",
    "ax[1,3].set_title('Churn vs. OnlineSecurity')\n",
    "\n",
    "sns.countplot(x=data2['OnlineBackup'], hue=data2['Churn'], ax=ax[2,0])\n",
    "ax[2,0].set_title('Churn vs. OnlineBackup')\n",
    "sns.countplot(x=data2['DeviceProtection'], hue=data2['Churn'], ax=ax[2,1])\n",
    "ax[2,1].set_title('Churn vs. DeviceProtection')\n",
    "sns.countplot(x=data2['TechSupport'], hue=data2['Churn'], ax=ax[2,2])\n",
    "ax[2,2].set_title('Churn vs. TechSupport')\n",
    "sns.countplot(x=data2['StreamingTV'], hue=data2['Churn'], ax=ax[2,3])\n",
    "ax[2,3].set_title('Churn vs. StreamingTV')\n",
    "plt.show()"
   ]
  },
  {
   "cell_type": "code",
   "execution_count": null,
   "id": "28792928",
   "metadata": {},
   "outputs": [],
   "source": [
    "fig, ax = plt.subplots(1,3,figsize=(18,6))\n",
    "\n",
    "sns.countplot(x=data2['StreamingMovies'], hue=data2['Churn'], ax=ax[0])\n",
    "ax[0].set_title('Churn vs. StreamingMovies')\n",
    "sns.countplot(x=data2['Contract'], hue=data2['Churn'], ax=ax[1])\n",
    "ax[1].set_title('Churn vs. Contract')\n",
    "sns.countplot(x=data2['PaperlessBilling'], hue=data2['Churn'], ax=ax[2])\n",
    "ax[2].set_title('Churn vs. PaperlessBilling')\n",
    "plt.show()"
   ]
  },
  {
   "cell_type": "code",
   "execution_count": null,
   "id": "86ceec49",
   "metadata": {},
   "outputs": [],
   "source": [
    "plt.figure(figsize=(15,7))\n",
    "sns.countplot(x=data2['PaymentMethod'], hue=data2['Churn']).set_title('Churn vs. PaymentMethod')\n",
    "plt.show()\n"
   ]
  },
  {
   "cell_type": "code",
   "execution_count": null,
   "id": "2db19e27",
   "metadata": {},
   "outputs": [],
   "source": [
    "pay_meth = pd.DataFrame(data2.groupby(['PaymentMethod', 'Churn'])['Churn'].count())\n",
    "pay_meth"
   ]
  },
  {
   "cell_type": "code",
   "execution_count": null,
   "id": "f552a9d5",
   "metadata": {},
   "outputs": [],
   "source": [
    "from sklearn.preprocessing import StandardScaler\n",
    "from sklearn.model_selection import train_test_split\n",
    "from sklearn.compose import ColumnTransformer"
   ]
  },
  {
   "cell_type": "code",
   "execution_count": null,
   "id": "3996106f",
   "metadata": {},
   "outputs": [],
   "source": [
    "data2.drop('customerID', axis=1, inplace=True)"
   ]
  },
  {
   "cell_type": "code",
   "execution_count": null,
   "id": "6270b611",
   "metadata": {},
   "outputs": [],
   "source": [
    "cont_feats = ['tenure', 'MonthlyCharges', 'TotalCharges']\n",
    "binary_feats = [i for i in data2.columns[:-1] if len(data2[i].unique()) == 2]\n",
    "binary_feats.remove('gender')\n",
    "cat_feats = [i for i in data2.columns[:-1] if i not in cont_feats + binary_feats]"
   ]
  },
  {
   "cell_type": "code",
   "execution_count": null,
   "id": "590215e9",
   "metadata": {},
   "outputs": [],
   "source": [
    "data2[binary_feats] = data2[binary_feats].replace(to_replace=['Yes', 'No'], value=[1, 0])"
   ]
  },
  {
   "cell_type": "code",
   "execution_count": null,
   "id": "f4e74f67",
   "metadata": {},
   "outputs": [],
   "source": [
    "final_dat = pd.get_dummies(data2, columns=cat_feats)"
   ]
  },
  {
   "cell_type": "code",
   "execution_count": null,
   "id": "be1d8c20",
   "metadata": {},
   "outputs": [],
   "source": [
    "train_set, test_set = train_test_split(final_dat, test_size=0.15, random_state=2021)"
   ]
  },
  {
   "cell_type": "code",
   "execution_count": null,
   "id": "8e6e5686",
   "metadata": {},
   "outputs": [],
   "source": [
    "feats = [i for i in final_dat if i != 'Churn']"
   ]
  },
  {
   "cell_type": "code",
   "execution_count": null,
   "id": "b8fdab18",
   "metadata": {},
   "outputs": [],
   "source": [
    "data_tr = train_set[feats].copy()\n",
    "train_labels = train_set['Churn'].copy()\n",
    "data_te = test_set[feats].copy()\n",
    "test_labels = test_set['Churn'].copy()"
   ]
  },
  {
   "cell_type": "code",
   "execution_count": null,
   "id": "4af08f3c",
   "metadata": {},
   "outputs": [],
   "source": [
    "col_trans = ColumnTransformer([\n",
    "    ('num', StandardScaler(),  cont_feats)], remainder='passthrough')\n",
    "\n",
    "train_prep = col_trans.fit_transform(data_tr)"
   ]
  },
  {
   "cell_type": "code",
   "execution_count": null,
   "id": "4871f057",
   "metadata": {},
   "outputs": [],
   "source": [
    "test_prep = col_trans.transform(data_te)"
   ]
  },
  {
   "cell_type": "code",
   "execution_count": null,
   "id": "a21baf7a",
   "metadata": {},
   "outputs": [],
   "source": [
    "new_order = [i for i in data_tr.columns if i not in cont_feats]\n",
    "new_order = cont_feats+new_order"
   ]
  },
  {
   "cell_type": "code",
   "execution_count": null,
   "id": "e9d863ab",
   "metadata": {},
   "outputs": [],
   "source": [
    "train_prep.shape"
   ]
  },
  {
   "cell_type": "code",
   "execution_count": null,
   "id": "045d082f",
   "metadata": {},
   "outputs": [],
   "source": [
    "from sklearn.model_selection import RandomizedSearchCV\n",
    "from sklearn.ensemble import RandomForestClassifier\n",
    "from sklearn.linear_model import LogisticRegression\n",
    "from sklearn.svm import SVC\n",
    "from sklearn.metrics import confusion_matrix\n",
    "from sklearn.metrics import accuracy_score\n",
    "from sklearn.metrics import recall_score\n",
    "from sklearn.metrics import classification_report\n",
    "from numpy import random"
   ]
  },
  {
   "cell_type": "code",
   "execution_count": null,
   "id": "e4c9dbd2",
   "metadata": {},
   "outputs": [],
   "source": [
    "param_grid = {\n",
    "    'n_estimators': random.randint(100,600,3),\n",
    "    'max_features' : random.randint(10,29,3),\n",
    "    'max_depth' : [3,4,5],\n",
    "    'bootstrap' : [True, False]\n",
    "}"
   ]
  },
  {
   "cell_type": "code",
   "execution_count": null,
   "id": "38ef7d3e",
   "metadata": {},
   "outputs": [],
   "source": [
    "rf_clf = RandomForestClassifier(random_state=2021)\n",
    "rf_grid = RandomizedSearchCV(rf_clf, param_grid, cv=3, scoring='accuracy',\n",
    "                           return_train_score=True)\n",
    "rf_grid.fit(train_prep, train_labels)"
   ]
  },
  {
   "cell_type": "code",
   "execution_count": null,
   "id": "f28f835f",
   "metadata": {},
   "outputs": [],
   "source": [
    "cvres = rf_grid.cv_results_\n",
    "grid_rf_df = pd.DataFrame({\n",
    "    \"Train_Error\": cvres[\"mean_train_score\"],\n",
    "    \"Test_Error\": cvres[\"mean_test_score\"],\n",
    "    \"Parameter_Set\": cvres[\"params\"],\n",
    "}).sort_index()\n",
    "pd.set_option('display.max_colwidth', None)\n",
    "grid_rf_df.tail(10)"
   ]
  },
  {
   "cell_type": "code",
   "execution_count": null,
   "id": "a14fd376",
   "metadata": {},
   "outputs": [],
   "source": [
    "final_model = rf_grid.best_estimator_\n",
    "rf_preds = final_model.predict(test_prep)\n",
    "rfmod_pred_score = accuracy_score(test_labels, rf_preds)\n",
    "rfmod_recall = recall_score(test_labels, rf_preds, pos_label='Yes')"
   ]
  },
  {
   "cell_type": "code",
   "execution_count": null,
   "id": "73bdf481",
   "metadata": {},
   "outputs": [],
   "source": [
    "mat = confusion_matrix(test_labels, rf_preds)\n",
    "sns.heatmap(mat.T, square=True, annot=True, fmt='d', cbar=False, cmap='RdBu')\n",
    "plt.xlabel('Actual Churn', size=15)\n",
    "plt.ylabel('Predicted Churn', size=15)\n",
    "plt.show()\n",
    "print('Total predictions = %d' % len(test_labels))"
   ]
  },
  {
   "cell_type": "code",
   "execution_count": null,
   "id": "6942ecab",
   "metadata": {},
   "outputs": [],
   "source": [
    "print('Train error rate = %.2f%%' % ((1 - rf_grid.best_score_) * 100))\n",
    "print('Test error rate = %.2f%%' % ((1 - rfmod_pred_score) * 100))\n",
    "print('Test Recall = %.2f%%' % (rfmod_recall * 100))"
   ]
  },
  {
   "cell_type": "code",
   "execution_count": null,
   "id": "3fdc6c71",
   "metadata": {},
   "outputs": [],
   "source": [
    "print(classification_report(test_labels, rf_preds))"
   ]
  },
  {
   "cell_type": "code",
   "execution_count": null,
   "id": "948b30b7",
   "metadata": {},
   "outputs": [],
   "source": [
    "df = pd.DataFrame(train_prep, columns = new_order)"
   ]
  },
  {
   "cell_type": "code",
   "execution_count": null,
   "id": "5021096f",
   "metadata": {},
   "outputs": [],
   "source": [
    "rf_importances = pd.DataFrame(rf_grid.best_estimator_.feature_importances_,\n",
    "                                   index = df.columns,\n",
    "                                    columns=['Importance']).sort_values('Importance', ascending=False)\n",
    "\n",
    "rf_importances[:10]"
   ]
  },
  {
   "cell_type": "code",
   "execution_count": null,
   "id": "9fa11596",
   "metadata": {},
   "outputs": [],
   "source": [
    "top_5 = rf_importances[rf_importances['Importance'] > .05]"
   ]
  },
  {
   "cell_type": "code",
   "execution_count": null,
   "id": "9e1bf40a",
   "metadata": {},
   "outputs": [],
   "source": [
    "plt.figure(figsize=(13,8))\n",
    "ax = sns.barplot(top_5.index, top_5['Importance'])\n",
    "ax.set_xticklabels(ax.get_xticklabels(), rotation=45, fontsize=12)\n",
    "plt.show()"
   ]
  },
  {
   "cell_type": "code",
   "execution_count": null,
   "id": "9ba495ab",
   "metadata": {},
   "outputs": [],
   "source": [
    "param_grid = [\n",
    "    {'max_iter': random.randint(100,600,3), 'C': [.1,.5,1], 'penalty': ['l2'], 'solver': ['lbfgs'], 'tol': [.01, .001, .0001]},\n",
    "    {'max_iter': random.randint(100,600,3), 'penalty': ['none'], 'tol': [.01, .001, .0001]},  \n",
    "    {'max_iter': random.randint(100,600,3), 'C': [.1,.5,1], 'penalty': ['l1'], 'solver': ['liblinear'], 'tol': [.01, .001, .0001]},\n",
    "    {'max_iter': random.randint(100,600,3), 'C': [.1,.5,1], 'penalty': ['elasticnet'], 'solver': ['saga'], 'l1_ratio':[.25, .5, .75], 'tol': [.01, .001, .0001]}\n",
    "]"
   ]
  },
  {
   "cell_type": "code",
   "execution_count": null,
   "id": "4cdb6ce9",
   "metadata": {},
   "outputs": [],
   "source": [
    "log_clf = LogisticRegression()\n",
    "log_grid = RandomizedSearchCV(log_clf, param_grid, cv=3, scoring='accuracy',\n",
    "                           return_train_score=True)\n",
    "log_grid.fit(train_prep, train_labels)"
   ]
  },
  {
   "cell_type": "code",
   "execution_count": null,
   "id": "19411898",
   "metadata": {},
   "outputs": [],
   "source": [
    "cvres = log_grid.cv_results_\n",
    "grid_log_df = pd.DataFrame({\n",
    "    \"Train_Error\": cvres[\"mean_train_score\"],\n",
    "    \"Test_Error\": cvres[\"mean_test_score\"],\n",
    "    \"Parameter_Set\": cvres[\"params\"],\n",
    "}).sort_index()\n",
    "grid_log_df.tail(10)"
   ]
  },
  {
   "cell_type": "code",
   "execution_count": null,
   "id": "d914a042",
   "metadata": {},
   "outputs": [],
   "source": [
    "final_model = log_grid.best_estimator_\n",
    "log_preds = final_model.predict(test_prep)\n",
    "logmod_pred_score = accuracy_score(test_labels, log_preds)\n",
    "logmod_recall = recall_score(test_labels, log_preds, pos_label='Yes')"
   ]
  },
  {
   "cell_type": "code",
   "execution_count": null,
   "id": "c2735e5a",
   "metadata": {},
   "outputs": [],
   "source": [
    "mat = confusion_matrix(test_labels, log_preds)\n",
    "sns.heatmap(mat.T, square=True, annot=True, fmt='d', cbar=False, cmap='RdBu')\n",
    "plt.xlabel('Actual Churn', size=15)\n",
    "plt.ylabel('Predicted Churn', size=15)\n",
    "plt.show()\n",
    "print('Total predictions = %d' % len(test_labels))"
   ]
  },
  {
   "cell_type": "code",
   "execution_count": null,
   "id": "7c0d21e6",
   "metadata": {},
   "outputs": [],
   "source": [
    "print('Train error rate = %.2f%%' % ((1 - log_grid.best_score_) * 100))\n",
    "print('Test error rate = %.2f%%' % ((1 - logmod_pred_score) * 100))\n",
    "print('Test Recall = %.2f%%' % (logmod_recall * 100))"
   ]
  },
  {
   "cell_type": "code",
   "execution_count": null,
   "id": "7541ef06",
   "metadata": {},
   "outputs": [],
   "source": [
    "print(classification_report(test_labels, log_preds))"
   ]
  },
  {
   "cell_type": "code",
   "execution_count": null,
   "id": "a2c4a53b",
   "metadata": {},
   "outputs": [],
   "source": [
    "df = pd.DataFrame(log_grid.best_estimator_.coef_, columns = new_order).transpose()"
   ]
  },
  {
   "cell_type": "code",
   "execution_count": null,
   "id": "f7656bcf",
   "metadata": {},
   "outputs": [],
   "source": [
    "df['square'] = df[0] ** 2\n",
    "df['sqrt'] = [np.sqrt(i) for i in df['square']]\n",
    "df = df.sort_values('sqrt', ascending=False)\n",
    "df[:10]"
   ]
  },
  {
   "cell_type": "code",
   "execution_count": null,
   "id": "5c75ea58",
   "metadata": {},
   "outputs": [],
   "source": [
    "top5 = df[df['sqrt'] > 1.1]"
   ]
  },
  {
   "cell_type": "code",
   "execution_count": null,
   "id": "12178d28",
   "metadata": {},
   "outputs": [],
   "source": [
    "plt.figure(figsize=(13,8))\n",
    "ax = sns.barplot(top5.index, top5['sqrt'])\n",
    "ax.set_xticklabels(ax.get_xticklabels(), rotation=45, fontsize=12)\n",
    "plt.show()"
   ]
  },
  {
   "cell_type": "code",
   "execution_count": null,
   "id": "8c3d86d5",
   "metadata": {},
   "outputs": [],
   "source": [
    "param_grid = [    \n",
    "    {'C': [.1,1,10], 'max_iter': random.randint(1000,3000,3), 'tol': [1e-4, 1e-10], 'gamma' : [3,5,7]},\n",
    "    {'C': [.1,1,10], 'max_iter': [-1], 'tol': [1e-4, 1e-10]},\n",
    "    {'C': [.1,1,10], 'max_iter': random.randint(1000,3000,3), 'kernel': ['linear']}\n",
    "  ]"
   ]
  },
  {
   "cell_type": "code",
   "execution_count": null,
   "id": "925dfad8",
   "metadata": {},
   "outputs": [],
   "source": [
    "svm_clf = SVC(random_state=2021)\n",
    "svm_grid = RandomizedSearchCV(svm_clf, param_grid, cv=3,\n",
    "                           scoring='accuracy',\n",
    "                           return_train_score=True, n_iter=15)\n",
    "svm_grid.fit(train_prep, train_labels)"
   ]
  },
  {
   "cell_type": "code",
   "execution_count": null,
   "id": "591b695d",
   "metadata": {},
   "outputs": [],
   "source": [
    "cvres = svm_grid.cv_results_\n",
    "grid_svc_df = pd.DataFrame({\n",
    "    \"Train_Error\": cvres[\"mean_train_score\"],\n",
    "    \"Test_Error\": cvres[\"mean_test_score\"],\n",
    "    \"Parameter_Set\": cvres[\"params\"],\n",
    "}).sort_index()\n",
    "grid_svc_df"
   ]
  },
  {
   "cell_type": "code",
   "execution_count": null,
   "id": "c413c773",
   "metadata": {},
   "outputs": [],
   "source": [
    "final_model = svm_grid.best_estimator_\n",
    "svm_preds = final_model.predict(test_prep)\n",
    "svmmod_pred_score = accuracy_score(test_labels, svm_preds)\n",
    "svmmod_recall = recall_score(test_labels, svm_preds, pos_label='Yes')"
   ]
  },
  {
   "cell_type": "code",
   "execution_count": null,
   "id": "a5411567",
   "metadata": {},
   "outputs": [],
   "source": [
    "mat = confusion_matrix(test_labels, svm_preds)\n",
    "sns.heatmap(mat.T, square=True, annot=True, fmt='d', cbar=False, cmap='RdBu')\n",
    "plt.xlabel('Actual Churn', size=15)\n",
    "plt.ylabel('Predicted Churn', size=15)\n",
    "plt.show()\n",
    "print('Total predictions = %d' % len(test_labels))"
   ]
  },
  {
   "cell_type": "code",
   "execution_count": null,
   "id": "6b2b53c6",
   "metadata": {},
   "outputs": [],
   "source": [
    "print('Train error rate = %.2f%%' % ((1 - svm_grid.best_score_) * 100))\n",
    "print('Test error rate = %.2f%%' % ((1 - svmmod_pred_score) * 100))\n",
    "print('Test Recall = %.2f%%' % (svmmod_recall * 100))"
   ]
  },
  {
   "cell_type": "code",
   "execution_count": null,
   "id": "e459430f",
   "metadata": {},
   "outputs": [],
   "source": [
    "print(classification_report(test_labels, svm_preds))"
   ]
  },
  {
   "cell_type": "code",
   "execution_count": null,
   "id": "5c43a677",
   "metadata": {},
   "outputs": [],
   "source": [
    "df = pd.DataFrame(svm_grid.best_estimator_.coef_, columns = new_order).transpose()"
   ]
  },
  {
   "cell_type": "code",
   "execution_count": null,
   "id": "8d862291",
   "metadata": {},
   "outputs": [],
   "source": [
    "df['square'] = df[0] ** 2\n",
    "df['sqrt'] = [np.sqrt(i) for i in df['square']]\n",
    "df = df.sort_values('sqrt', ascending=False)\n",
    "df[:10]"
   ]
  },
  {
   "cell_type": "code",
   "execution_count": null,
   "id": "33ccb53f",
   "metadata": {},
   "outputs": [],
   "source": [
    "top5 = df[df['sqrt'] > 0.25]"
   ]
  },
  {
   "cell_type": "code",
   "execution_count": null,
   "id": "6b8f6ad5",
   "metadata": {},
   "outputs": [],
   "source": [
    "plt.figure(figsize=(13,8))\n",
    "ax = sns.barplot(top5.index, top5['sqrt'])\n",
    "ax.set_xticklabels(ax.get_xticklabels(), rotation=45, fontsize=12)\n",
    "plt.show()"
   ]
  },
  {
   "cell_type": "code",
   "execution_count": null,
   "id": "ec76c4fd",
   "metadata": {},
   "outputs": [],
   "source": [
    "from imblearn.over_sampling import SMOTE"
   ]
  },
  {
   "cell_type": "code",
   "execution_count": null,
   "id": "6844b503",
   "metadata": {},
   "outputs": [],
   "source": [
    "smt = SMOTE(random_state = 2021) \n",
    "x_smt, y_smt = smt.fit_sample(train_prep, train_labels) "
   ]
  },
  {
   "cell_type": "code",
   "execution_count": null,
   "id": "f672307e",
   "metadata": {},
   "outputs": [],
   "source": [
    "param_grid = {\n",
    "    'n_estimators': random.randint(100,600,3),\n",
    "    'max_features' : random.randint(10,29,3),\n",
    "    'max_depth' : [3,4,5],\n",
    "    'bootstrap' : [True, False]\n",
    "}"
   ]
  },
  {
   "cell_type": "code",
   "execution_count": null,
   "id": "21378bbb",
   "metadata": {},
   "outputs": [],
   "source": [
    "rf_clf = RandomForestClassifier(random_state=2021)\n",
    "rf_grid = RandomizedSearchCV(rf_clf, param_grid, cv=3, scoring='accuracy')\n",
    "rf_grid.fit(x_smt, y_smt)"
   ]
  },
  {
   "cell_type": "code",
   "execution_count": null,
   "id": "50228c83",
   "metadata": {},
   "outputs": [],
   "source": [
    "final_model = rf_grid.best_estimator_\n",
    "rf_preds = final_model.predict(test_prep)\n",
    "rfmod_pred_score = accuracy_score(test_labels, rf_preds)\n",
    "rfmod_recall = recall_score(test_labels, rf_preds, pos_label='Yes')"
   ]
  },
  {
   "cell_type": "code",
   "execution_count": null,
   "id": "aecd526c",
   "metadata": {},
   "outputs": [],
   "source": [
    "print('Train error rate = %.2f%%' % ((1 - rf_grid.best_score_) * 100))\n",
    "print('Test error rate = %.2f%%' % ((1 - rfmod_pred_score) * 100))\n",
    "print('Test Recall = %.2f%%' % (rfmod_recall * 100))"
   ]
  },
  {
   "cell_type": "code",
   "execution_count": null,
   "id": "ac310a52",
   "metadata": {},
   "outputs": [],
   "source": [
    "print(classification_report(test_labels, rf_preds))"
   ]
  },
  {
   "cell_type": "code",
   "execution_count": null,
   "id": "1dc3992b",
   "metadata": {},
   "outputs": [],
   "source": [
    "param_grid = [\n",
    "    {'max_iter': random.randint(100,600,3), 'C': [.1,.5,1], 'penalty': ['l2'], 'solver': ['lbfgs'], 'tol': [.01, .001, .0001]},\n",
    "    {'max_iter': random.randint(100,600,3), 'penalty': ['none'], 'tol': [.01, .001, .0001]},  \n",
    "    {'max_iter': random.randint(100,600,3), 'C': [.1,.5,1], 'penalty': ['l1'], 'solver': ['liblinear'], 'tol': [.01, .001, .0001]},\n",
    "    {'max_iter': random.randint(100,600,3), 'C': [.1,.5,1], 'penalty': ['elasticnet'], 'solver': ['saga'], 'l1_ratio':[.25, .5, .75], 'tol': [.01, .001, .0001]}\n",
    "]"
   ]
  },
  {
   "cell_type": "code",
   "execution_count": null,
   "id": "41ab6f57",
   "metadata": {},
   "outputs": [],
   "source": [
    "log_clf = LogisticRegression()\n",
    "log_grid = RandomizedSearchCV(log_clf, param_grid, cv=3, scoring='accuracy')\n",
    "log_grid.fit(x_smt, y_smt)"
   ]
  },
  {
   "cell_type": "code",
   "execution_count": null,
   "id": "0cfd56a2",
   "metadata": {},
   "outputs": [],
   "source": [
    "final_model = log_grid.best_estimator_\n",
    "log_preds = final_model.predict(test_prep)\n",
    "logmod_pred_score = accuracy_score(test_labels, log_preds)\n",
    "logmod_recall = recall_score(test_labels, log_preds, pos_label='Yes')"
   ]
  },
  {
   "cell_type": "code",
   "execution_count": null,
   "id": "c87ac0e5",
   "metadata": {},
   "outputs": [],
   "source": [
    "print('Train error rate = %.2f%%' % ((1 - log_grid.best_score_) * 100))\n",
    "print('Test error rate = %.2f%%' % ((1 - logmod_pred_score) * 100))\n",
    "print('Test Recall = %.2f%%' % (logmod_recall * 100))"
   ]
  },
  {
   "cell_type": "code",
   "execution_count": null,
   "id": "8b0fae84",
   "metadata": {},
   "outputs": [],
   "source": [
    "print(classification_report(test_labels, log_preds))"
   ]
  },
  {
   "cell_type": "code",
   "execution_count": null,
   "id": "5c49ff79",
   "metadata": {},
   "outputs": [],
   "source": [
    "param_grid = [    \n",
    "    {'C': [.1,1,10], 'max_iter': random.randint(1000,3000,3), 'tol': [1e-4, 1e-10], 'gamma' : [3,5,7]},\n",
    "    {'C': [.1,1,10], 'max_iter': [-1], 'tol': [1e-4, 1e-10]},\n",
    "    {'C': [.1,1,10], 'max_iter': random.randint(1000,3000,3), 'kernel': ['linear']}\n",
    "  ]"
   ]
  },
  {
   "cell_type": "code",
   "execution_count": null,
   "id": "8261b06a",
   "metadata": {},
   "outputs": [],
   "source": [
    "svm_clf = SVC(random_state=2021)\n",
    "svm_grid = RandomizedSearchCV(svm_clf, param_grid, cv=3,\n",
    "                           scoring='accuracy',\n",
    "                           n_iter=15)\n",
    "svm_grid.fit(x_smt, y_smt)"
   ]
  },
  {
   "cell_type": "code",
   "execution_count": null,
   "id": "d6fd5403",
   "metadata": {},
   "outputs": [],
   "source": [
    "final_model = svm_grid.best_estimator_\n",
    "svm_preds = final_model.predict(test_prep)\n",
    "svmmod_pred_score = accuracy_score(test_labels, svm_preds)\n",
    "svmmod_recall = recall_score(test_labels, svm_preds, pos_label='Yes')"
   ]
  },
  {
   "cell_type": "code",
   "execution_count": null,
   "id": "ecc468cb",
   "metadata": {},
   "outputs": [],
   "source": [
    "print('Train error rate = %.2f%%' % ((1 - svm_grid.best_score_) * 100))\n",
    "print('Test error rate = %.2f%%' % ((1 - svmmod_pred_score) * 100))\n",
    "print('Test Recall = %.2f%%' % (svmmod_recall * 100))"
   ]
  },
  {
   "cell_type": "code",
   "execution_count": null,
   "id": "aa6b046a",
   "metadata": {},
   "outputs": [],
   "source": [
    "print(classification_report(test_labels, svm_preds))"
   ]
  },
  {
   "cell_type": "code",
   "execution_count": null,
   "id": "ed46c203",
   "metadata": {},
   "outputs": [],
   "source": [
    "all_recall = [rfmod_recall, logmod_recall, svmmod_recall]"
   ]
  },
  {
   "cell_type": "code",
   "execution_count": null,
   "id": "27f4490c",
   "metadata": {},
   "outputs": [],
   "source": [
    "all_acc = [rfmod_pred_score, logmod_pred_score, svmmod_pred_score]"
   ]
  },
  {
   "cell_type": "code",
   "execution_count": null,
   "id": "ddab9357",
   "metadata": {},
   "outputs": [],
   "source": [
    "df = pd.DataFrame(list(zip(all_recall, all_acc)), columns =['Recall', 'Accuracy'])"
   ]
  },
  {
   "cell_type": "code",
   "execution_count": null,
   "id": "2b0f92d4",
   "metadata": {},
   "outputs": [],
   "source": [
    "df['Model'] = ['Random Forest', 'Logistic Regresssion', 'Support Vector Machine']"
   ]
  },
  {
   "cell_type": "code",
   "execution_count": null,
   "id": "2a4c276b",
   "metadata": {},
   "outputs": [],
   "source": [
    "df = df[['Model', 'Recall', 'Accuracy']].reset_index(drop=True)"
   ]
  },
  {
   "cell_type": "code",
   "execution_count": null,
   "id": "dac91789",
   "metadata": {},
   "outputs": [],
   "source": [
    "plt.style.use('seaborn')\n",
    "ax = df.plot(x='Model', y=['Accuracy', 'Recall'], kind=\"bar\", \n",
    "             width=.4, ylim=(0,.99), figsize=(9,7), title='Scores')\n",
    "ax.set_xticklabels(ax.get_xticklabels(), rotation=45, fontsize=12)\n",
    "plt.yticks(np.arange(0, 1, step=0.1))\n",
    "ax.set_xlabel(\"\")\n",
    "plt.legend(prop={'size': 12}, loc=1)\n",
    "plt.show()\n",
    "\n",
    "df"
   ]
  },
  {
   "cell_type": "code",
   "execution_count": null,
   "id": "f98a1390",
   "metadata": {},
   "outputs": [],
   "source": []
  },
  {
   "cell_type": "code",
   "execution_count": null,
   "id": "894e510e",
   "metadata": {},
   "outputs": [],
   "source": []
  },
  {
   "cell_type": "code",
   "execution_count": null,
   "id": "68ada2d0",
   "metadata": {},
   "outputs": [],
   "source": []
  },
  {
   "cell_type": "code",
   "execution_count": null,
   "id": "b790171b",
   "metadata": {},
   "outputs": [],
   "source": []
  },
  {
   "cell_type": "code",
   "execution_count": null,
   "id": "f8ecd64d",
   "metadata": {},
   "outputs": [],
   "source": []
  }
 ],
 "metadata": {
  "kernelspec": {
   "display_name": "Python 3 (ipykernel)",
   "language": "python",
   "name": "python3"
  },
  "language_info": {
   "codemirror_mode": {
    "name": "ipython",
    "version": 3
   },
   "file_extension": ".py",
   "mimetype": "text/x-python",
   "name": "python",
   "nbconvert_exporter": "python",
   "pygments_lexer": "ipython3",
   "version": "3.9.12"
  }
 },
 "nbformat": 4,
 "nbformat_minor": 5
}
